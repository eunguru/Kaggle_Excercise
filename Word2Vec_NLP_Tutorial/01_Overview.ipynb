{
 "cells": [
  {
   "cell_type": "markdown",
   "metadata": {},
   "source": [
    "# Bag of Words Meets Bags of Popcorn Overview"
   ]
  },
  {
   "cell_type": "markdown",
   "metadata": {},
   "source": [
    "- URL: https://www.kaggle.com/c/word2vec-nlp-tutorial\n",
    "- Google의 Word2Vec을 이용한 movie review sentiment analysis\n",
    "    - Word2Vec은 단어들의 의미와 단어들 사이의 의미적 관계를 추론\n",
    "    - Word2Vec은 RNN, DNN과 같은 접근 방식들과 유사하나 계산 효율적"
   ]
  },
  {
   "cell_type": "markdown",
   "metadata": {},
   "source": [
    "### 1. Tutorial Overview"
   ]
  },
  {
   "cell_type": "markdown",
   "metadata": {},
   "source": [
    "- Tutorial: natural language를 위한 Word2Vec"
   ]
  },
  {
   "cell_type": "markdown",
   "metadata": {},
   "source": [
    "#### 1) Part 1: basic natural language processing"
   ]
  },
  {
   "cell_type": "markdown",
   "metadata": {},
   "source": [
    "- 초보자를 대상으로 기본 자연어 처리 기술을 다룸 "
   ]
  },
  {
   "cell_type": "markdown",
   "metadata": {},
   "source": [
    "#### 2) Part 2, 3: deep learning for text understanding "
   ]
  },
  {
   "cell_type": "markdown",
   "metadata": {},
   "source": [
    "- Word2Vec을 사용하여 모델을 훈련시키는 방법을 다룸\n",
    "- 감정 분석을 위해 word vector를 사용하는 방법을 다룸\n",
    "- 긍정과 부정 리뷰가 섞여 있는 100,000만개의 IMDB sentiment analysis data set 이용"
   ]
  },
  {
   "cell_type": "markdown",
   "metadata": {},
   "source": [
    "### 2. Evaluation: ROC curve"
   ]
  },
  {
   "cell_type": "markdown",
   "metadata": {},
   "source": [
    "#### 1) ROC(Receiver operating characteristic) 커브"
   ]
  },
  {
   "cell_type": "markdown",
   "metadata": {},
   "source": [
    "- FPR(False Positive Rate)에 대한 TPR(True Positive Rate)\n",
    "    - 즉, 민감도(재현율)에 대한 1-특이도 그래프\n",
    "- 좋은 분류기는 ROC 커브의 면적, 즉 AUC(Area Under the Curve)가 1에 가까움\n",
    "    - 완벽한 분류기는 ROC의 AUC가 1, 완전한 랜덤 분류기는 0.5"
   ]
  },
  {
   "cell_type": "markdown",
   "metadata": {},
   "source": [
    "**[참고]**"
   ]
  },
  {
   "cell_type": "markdown",
   "metadata": {},
   "source": [
    "<img src=\"img/term.png\" width=400></img>"
   ]
  },
  {
   "cell_type": "markdown",
   "metadata": {},
   "source": [
    "##### i. TPR(True Positive Rate)"
   ]
  },
  {
   "cell_type": "markdown",
   "metadata": {},
   "source": [
    "- 민감도 또는 재현율이라고 함\n",
    "- True를 True로 분류한 비율, 진짜 양성 비율"
   ]
  },
  {
   "cell_type": "markdown",
   "metadata": {},
   "source": [
    "##### ii. FPR(False Positive Rate)"
   ]
  },
  {
   "cell_type": "markdown",
   "metadata": {},
   "source": [
    "- False를 True로 분류한 비율, 거짓 양성 비율\n",
    "- 1에서 TNR(True Negative Rate)를 뺀 값\n",
    "    - TNR은 False를 False로 분류한 비율, 진짜 음성 비율\n",
    "    - 특이도(specificity)라고 함"
   ]
  },
  {
   "cell_type": "markdown",
   "metadata": {},
   "source": [
    "$$FPR = \\frac{FP}{FP+TN} = \\frac{FP+TN-TN}{FP+TN} = 1-\\frac{TN}{FP+TN} = 1 - TNR$$"
   ]
  }
 ],
 "metadata": {
  "kernelspec": {
   "display_name": "testall",
   "language": "Python",
   "name": "testall"
  },
  "language_info": {
   "codemirror_mode": {
    "name": "ipython",
    "version": 3
   },
   "file_extension": ".py",
   "mimetype": "text/x-python",
   "name": "python",
   "nbconvert_exporter": "python",
   "pygments_lexer": "ipython3",
   "version": "3.6.1"
  }
 },
 "nbformat": 4,
 "nbformat_minor": 2
}
